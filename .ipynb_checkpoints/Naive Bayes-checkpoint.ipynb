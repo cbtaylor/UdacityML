{
 "cells": [
  {
   "cell_type": "code",
   "execution_count": 1,
   "metadata": {
    "collapsed": true
   },
   "outputs": [],
   "source": [
    "from sklearn import datasets\n",
    "iris = datasets.load_iris()\n",
    "from sklearn.naive_bayes import GaussianNB\n",
    "gnb = GaussianNB()"
   ]
  },
  {
   "cell_type": "code",
   "execution_count": 3,
   "metadata": {
    "collapsed": false
   },
   "outputs": [
    {
     "name": "stdout",
     "output_type": "stream",
     "text": [
      "Number of mislabeled points out of a total 150 points : 6\n"
     ]
    }
   ],
   "source": [
    "y_pred = gnb.fit(iris.data, iris.target).predict(iris.data)\n",
    "print(\"Number of mislabeled points out of a total %d points : %d\"\n",
    "      % (iris.data.shape[0],(iris.target != y_pred).sum()))"
   ]
  },
  {
   "cell_type": "code",
   "execution_count": 4,
   "metadata": {
    "collapsed": false
   },
   "outputs": [
    {
     "name": "stdout",
     "output_type": "stream",
     "text": [
      "[1]\n"
     ]
    }
   ],
   "source": [
    "import numpy as np\n",
    "X = np.array([[-1, -1], [-2, -1], [-3, -2], [1, 1], [2, 1], [3, 2]])\n",
    "Y = np.array([1, 1, 1, 2, 2, 2])\n",
    "# from sklearn.naive_bayes import GaussianNB\n",
    "clf = GaussianNB()\n",
    "clf.fit(X, Y)\n",
    "GaussianNB()\n",
    "print(clf.predict([[-0.8, -1]]))"
   ]
  },
  {
   "cell_type": "code",
   "execution_count": 5,
   "metadata": {
    "collapsed": false
   },
   "outputs": [
    {
     "name": "stdout",
     "output_type": "stream",
     "text": [
      "[1]\n"
     ]
    }
   ],
   "source": [
    "clf_pf = GaussianNB()\n",
    "clf_pf.partial_fit(X, Y, np.unique(Y))\n",
    "GaussianNB()\n",
    "print(clf_pf.predict([[-0.8, -1]]))"
   ]
  },
  {
   "cell_type": "code",
   "execution_count": 8,
   "metadata": {
    "collapsed": false
   },
   "outputs": [
    {
     "name": "stdout",
     "output_type": "stream",
     "text": [
      "(-5, -5)\n",
      "[1]\n",
      "(-5, -4)\n",
      "[1]\n",
      "(-5, -3)\n",
      "[1]\n",
      "(-5, -2)\n",
      "[1]\n",
      "(-5, -1)\n",
      "[1]\n",
      "(-5, 0)\n",
      "[1]\n",
      "(-5, 1)\n",
      "[1]\n",
      "(-5, 2)\n",
      "[1]\n",
      "(-5, 3)\n",
      "[2]\n",
      "(-5, 4)\n",
      "[2]\n",
      "(-4, -5)\n",
      "[1]\n",
      "(-4, -4)\n",
      "[1]\n",
      "(-4, -3)\n",
      "[1]\n",
      "(-4, -2)\n",
      "[1]\n",
      "(-4, -1)\n",
      "[1]\n",
      "(-4, 0)\n",
      "[1]\n",
      "(-4, 1)\n",
      "[1]\n",
      "(-4, 2)\n",
      "[1]\n",
      "(-4, 3)\n",
      "[2]\n",
      "(-4, 4)\n",
      "[2]\n",
      "(-3, -5)\n",
      "[1]\n",
      "(-3, -4)\n",
      "[1]\n",
      "(-3, -3)\n",
      "[1]\n",
      "(-3, -2)\n",
      "[1]\n",
      "(-3, -1)\n",
      "[1]\n",
      "(-3, 0)\n",
      "[1]\n",
      "(-3, 1)\n",
      "[1]\n",
      "(-3, 2)\n",
      "[2]\n",
      "(-3, 3)\n",
      "[2]\n",
      "(-3, 4)\n",
      "[2]\n",
      "(-2, -5)\n",
      "[1]\n",
      "(-2, -4)\n",
      "[1]\n",
      "(-2, -3)\n",
      "[1]\n",
      "(-2, -2)\n",
      "[1]\n",
      "(-2, -1)\n",
      "[1]\n",
      "(-2, 0)\n",
      "[1]\n",
      "(-2, 1)\n",
      "[1]\n",
      "(-2, 2)\n",
      "[2]\n",
      "(-2, 3)\n",
      "[2]\n",
      "(-2, 4)\n",
      "[2]\n",
      "(-1, -5)\n",
      "[1]\n",
      "(-1, -4)\n",
      "[1]\n",
      "(-1, -3)\n",
      "[1]\n",
      "(-1, -2)\n",
      "[1]\n",
      "(-1, -1)\n",
      "[1]\n",
      "(-1, 0)\n",
      "[1]\n",
      "(-1, 1)\n",
      "[2]\n",
      "(-1, 2)\n",
      "[2]\n",
      "(-1, 3)\n",
      "[2]\n",
      "(-1, 4)\n",
      "[2]\n",
      "(0, -5)\n",
      "[1]\n",
      "(0, -4)\n",
      "[1]\n",
      "(0, -3)\n",
      "[1]\n",
      "(0, -2)\n",
      "[1]\n",
      "(0, -1)\n",
      "[1]\n",
      "(0, 0)\n",
      "[1]\n",
      "(0, 1)\n",
      "[2]\n",
      "(0, 2)\n",
      "[2]\n",
      "(0, 3)\n",
      "[2]\n",
      "(0, 4)\n",
      "[2]\n",
      "(1, -5)\n",
      "[1]\n",
      "(1, -4)\n",
      "[1]\n",
      "(1, -3)\n",
      "[1]\n",
      "(1, -2)\n",
      "[1]\n",
      "(1, -1)\n",
      "[1]\n",
      "(1, 0)\n",
      "[2]\n",
      "(1, 1)\n",
      "[2]\n",
      "(1, 2)\n",
      "[2]\n",
      "(1, 3)\n",
      "[2]\n",
      "(1, 4)\n",
      "[2]\n",
      "(2, -5)\n",
      "[1]\n",
      "(2, -4)\n",
      "[1]\n",
      "(2, -3)\n",
      "[1]\n",
      "(2, -2)\n",
      "[1]\n",
      "(2, -1)\n",
      "[2]\n",
      "(2, 0)\n",
      "[2]\n",
      "(2, 1)\n",
      "[2]\n",
      "(2, 2)\n",
      "[2]\n",
      "(2, 3)\n",
      "[2]\n",
      "(2, 4)\n",
      "[2]\n",
      "(3, -5)\n",
      "[1]\n",
      "(3, -4)\n",
      "[1]\n",
      "(3, -3)\n",
      "[1]\n",
      "(3, -2)\n",
      "[1]\n",
      "(3, -1)\n",
      "[2]\n",
      "(3, 0)\n",
      "[2]\n",
      "(3, 1)\n",
      "[2]\n",
      "(3, 2)\n",
      "[2]\n",
      "(3, 3)\n",
      "[2]\n",
      "(3, 4)\n",
      "[2]\n",
      "(4, -5)\n",
      "[1]\n",
      "(4, -4)\n",
      "[1]\n",
      "(4, -3)\n",
      "[1]\n",
      "(4, -2)\n",
      "[2]\n",
      "(4, -1)\n",
      "[2]\n",
      "(4, 0)\n",
      "[2]\n",
      "(4, 1)\n",
      "[2]\n",
      "(4, 2)\n",
      "[2]\n",
      "(4, 3)\n",
      "[2]\n",
      "(4, 4)\n",
      "[2]\n"
     ]
    }
   ],
   "source": [
    "for x in range(-5,5):\n",
    "    for y in range(-5,5):\n",
    "        print(x,y)\n",
    "        print(clf_pf.predict([[x,y]]))"
   ]
  },
  {
   "cell_type": "code",
   "execution_count": null,
   "metadata": {
    "collapsed": true
   },
   "outputs": [],
   "source": []
  }
 ],
 "metadata": {
  "kernelspec": {
   "display_name": "Python 2",
   "language": "python",
   "name": "python2"
  },
  "language_info": {
   "codemirror_mode": {
    "name": "ipython",
    "version": 2
   },
   "file_extension": ".py",
   "mimetype": "text/x-python",
   "name": "python",
   "nbconvert_exporter": "python",
   "pygments_lexer": "ipython2",
   "version": "2.7.11"
  }
 },
 "nbformat": 4,
 "nbformat_minor": 0
}
